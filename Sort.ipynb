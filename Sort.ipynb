{
 "cells": [
  {
   "cell_type": "markdown",
   "id": "66f409f6",
   "metadata": {},
   "source": [
    "# Create good and bad quality images in seperate folder"
   ]
  },
  {
   "cell_type": "code",
   "execution_count": 12,
   "id": "b697d5ab",
   "metadata": {},
   "outputs": [
    {
     "name": "stdout",
     "output_type": "stream",
     "text": [
      "Separation complete.\n",
      "Files not found: 0\n",
      "Total Images: 2886\n"
     ]
    }
   ],
   "source": [
    "import pandas as pd\n",
    "import shutil\n",
    "import os\n",
    "\n",
    "# Load Excel file\n",
    "excel_file_path = '/Users/sarfraazshahulhameed/Documents/Assignments/DAEN690/Sky Image data.xlsx'\n",
    "df = pd.read_excel(excel_file_path)\n",
    "\n",
    "# Assuming your key column is named 'Key', 'Long-lived contrail count', 'Cirrus contrail count', and 'Poor Image Indicator'\n",
    "keys = df['Key'].tolist()\n",
    "long_lived_counts = df['Long-lived contrail count'].tolist()\n",
    "cirrus_counts = df['Cirrus contrail count'].tolist()\n",
    "poor_image_indicators = df['Poor Image Indicator'].tolist()\n",
    "total_images = len(keys)\n",
    "\n",
    "# Directory containing processed image files\n",
    "processed_image_dir = '/Users/sarfraazshahulhameed/Downloads/Checking/'\n",
    "\n",
    "# Base output directory\n",
    "output_base_dir = '/Users/sarfraazshahulhameed/Documents/Assignments/DAEN690/'\n",
    "\n",
    "# Output folders for good and bad quality images\n",
    "output_dir_good_quality = os.path.join(output_base_dir, 'Good Quality/')\n",
    "output_dir_bad_quality = os.path.join(output_base_dir, 'Bad Quality/')\n",
    "\n",
    "# Initialize counters\n",
    "file_not_found_count = 0\n",
    "\n",
    "# Loop through each key and move/copy the corresponding processed image based on counts and image quality\n",
    "for Key, long_lived_count_value, cirrus_count_value, poor_image_indicator in zip(keys, long_lived_counts, cirrus_counts, poor_image_indicators):\n",
    "    # Construct the full image filename based on the key\n",
    "    image_filename = f'IMG_{Key}.jpg'\n",
    "    processed_image_path = os.path.join(processed_image_dir, image_filename)\n",
    "\n",
    "    # Check if the file exists\n",
    "    if not os.path.exists(processed_image_path):\n",
    "        print(f\"File not found: {processed_image_path}\")\n",
    "        file_not_found_count += 1\n",
    "        continue\n",
    "\n",
    "    # Define output folders based on the counts\n",
    "    output_dir_cirrus = os.path.join(output_base_dir, f'{cirrus_count_value} Cirrus Contrails/')\n",
    "    output_dir_contrail = os.path.join(output_base_dir, f'{long_lived_count_value} Long Lived Contrails/')\n",
    "\n",
    "    # Create folders if they don't exist\n",
    "    os.makedirs(output_dir_cirrus, exist_ok=True)\n",
    "    os.makedirs(output_dir_contrail, exist_ok=True)\n",
    "\n",
    "    # Check for image quality and handle accordingly\n",
    "    if poor_image_indicator == 0:\n",
    "        output_path = os.path.join(output_dir_good_quality, image_filename)\n",
    "    elif poor_image_indicator == 1:\n",
    "        output_path = os.path.join(output_dir_bad_quality, image_filename)\n",
    "    else:\n",
    "        print(f\"Warning: Unknown quality indicator '{poor_image_indicator}' for image {Key}. Skipping.\")\n",
    "        continue\n",
    "\n",
    "    # Create quality folders if they don't exist\n",
    "    os.makedirs(os.path.dirname(output_path), exist_ok=True)\n",
    "\n",
    "    # Copy the processed image to the corresponding folders\n",
    "    shutil.copy(processed_image_path, output_path)\n",
    "\n",
    "print(\"Separation complete.\")\n",
    "print(f\"Files not found: {file_not_found_count}\")\n",
    "print(f\"Total Images: {total_images}\")\n"
   ]
  },
  {
   "cell_type": "markdown",
   "id": "8efeedc4",
   "metadata": {},
   "source": [
    "# Create the images with number of contrails in seperate folders"
   ]
  },
  {
   "cell_type": "code",
   "execution_count": 11,
   "id": "5d224ef7",
   "metadata": {},
   "outputs": [
    {
     "name": "stdout",
     "output_type": "stream",
     "text": [
      "Separation complete.\n",
      "Files not found: 0\n",
      "Total Images: 2886\n"
     ]
    }
   ],
   "source": [
    "import pandas as pd\n",
    "import shutil\n",
    "import os\n",
    "\n",
    "# Load Excel file\n",
    "excel_file_path = '/Users/sarfraazshahulhameed/Documents/Assignments/DAEN690/Sky Image data.xlsx'\n",
    "df = pd.read_excel(excel_file_path)\n",
    "\n",
    "# Assuming your key column is named 'Key', 'Long-lived contrail count', and 'Cirrus contrail count'\n",
    "keys = df['Key'].tolist()\n",
    "long_lived_counts = df['Long-lived contrail count'].tolist()\n",
    "cirrus_counts = df['Cirrus contrail count'].tolist()\n",
    "total_images = len(keys)\n",
    "\n",
    "# Directory containing processed image files\n",
    "processed_image_dir = '/Users/sarfraazshahulhameed/Downloads/Checking/'\n",
    "\n",
    "# Base output directory\n",
    "output_base_dir = '/Users/sarfraazshahulhameed/Documents/Assignments/DAEN690/'\n",
    "\n",
    "# Initialize counters\n",
    "file_not_found_count = 0\n",
    "\n",
    "# Loop through each key and move/copy the corresponding processed image based on counts\n",
    "for Key, long_lived_count_value, cirrus_count_value in zip(keys, long_lived_counts, cirrus_counts):\n",
    "    # Construct the full image filename based on the key\n",
    "    image_filename = f'IMG_{Key}.jpg'\n",
    "    processed_image_path = os.path.join(processed_image_dir, image_filename)\n",
    "\n",
    "    # Check if the file exists\n",
    "    if not os.path.exists(processed_image_path):\n",
    "        print(f\"File not found: {processed_image_path}\")\n",
    "        file_not_found_count += 1\n",
    "        continue\n",
    "\n",
    "    # Define output folders based on the counts\n",
    "    output_dir_cirrus = os.path.join(output_base_dir, f'{cirrus_count_value} Cirrus Contrails/')\n",
    "    output_dir_contrail = os.path.join(output_base_dir, f'{long_lived_count_value} Long Lived Contrails/')\n",
    "    \n",
    "    # Create folders if they don't exist\n",
    "    os.makedirs(output_dir_cirrus, exist_ok=True)\n",
    "    os.makedirs(output_dir_contrail, exist_ok=True)\n",
    "\n",
    "    # Copy the processed image to the corresponding folders\n",
    "    output_path_cirrus = os.path.join(output_dir_cirrus, image_filename)\n",
    "    output_path_contrail = os.path.join(output_dir_contrail, image_filename)\n",
    "    shutil.copy(processed_image_path, output_path_cirrus)\n",
    "    shutil.copy(processed_image_path, output_path_contrail)\n",
    "\n",
    "print(\"Separation complete.\")\n",
    "print(f\"Files not found: {file_not_found_count}\")\n",
    "print(f\"Total Images: {total_images}\")\n"
   ]
  },
  {
   "cell_type": "code",
   "execution_count": null,
   "id": "b0d4ef43",
   "metadata": {},
   "outputs": [],
   "source": []
  }
 ],
 "metadata": {
  "kernelspec": {
   "display_name": "Python 3 (ipykernel)",
   "language": "python",
   "name": "python3"
  },
  "language_info": {
   "codemirror_mode": {
    "name": "ipython",
    "version": 3
   },
   "file_extension": ".py",
   "mimetype": "text/x-python",
   "name": "python",
   "nbconvert_exporter": "python",
   "pygments_lexer": "ipython3",
   "version": "3.9.18"
  }
 },
 "nbformat": 4,
 "nbformat_minor": 5
}
