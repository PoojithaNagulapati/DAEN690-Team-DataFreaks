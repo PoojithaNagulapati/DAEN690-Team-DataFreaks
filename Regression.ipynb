{
 "cells": [
  {
   "cell_type": "code",
   "execution_count": 2,
   "id": "69e7c239",
   "metadata": {},
   "outputs": [],
   "source": [
    "# Import the necessary libraries\n",
    "import pandas as pd\n",
    "import numpy as np\n",
    "from sklearn.model_selection import train_test_split\n",
    "from sklearn.linear_model import LogisticRegression\n",
    "from sklearn.ensemble import RandomForestClassifier\n",
    "from sklearn.metrics import accuracy_score, classification_report\n",
    "import seaborn as sns\n",
    "import matplotlib.pyplot as plt\n",
    "from sklearn.metrics import confusion_matrix\n",
    "from sklearn.metrics import roc_curve, roc_auc_score\n",
    "from sklearn.model_selection import cross_val_score, KFold"
   ]
  },
  {
   "cell_type": "code",
   "execution_count": 3,
   "id": "b144f020",
   "metadata": {},
   "outputs": [],
   "source": [
    "data = pd.read_excel(\"Final Data Contrails1.xlsx\")"
   ]
  },
  {
   "cell_type": "code",
   "execution_count": 4,
   "id": "71287c8e",
   "metadata": {},
   "outputs": [
    {
     "data": {
      "text/html": [
       "<div>\n",
       "<style scoped>\n",
       "    .dataframe tbody tr th:only-of-type {\n",
       "        vertical-align: middle;\n",
       "    }\n",
       "\n",
       "    .dataframe tbody tr th {\n",
       "        vertical-align: top;\n",
       "    }\n",
       "\n",
       "    .dataframe thead th {\n",
       "        text-align: right;\n",
       "    }\n",
       "</style>\n",
       "<table border=\"1\" class=\"dataframe\">\n",
       "  <thead>\n",
       "    <tr style=\"text-align: right;\">\n",
       "      <th></th>\n",
       "      <th>Date</th>\n",
       "      <th>Contrail_Present</th>\n",
       "      <th>Average Temperature</th>\n",
       "      <th>GPM (Feet)</th>\n",
       "      <th>Rh Water</th>\n",
       "      <th>Rh Ice</th>\n",
       "      <th>Average Dew</th>\n",
       "      <th>Average windspeed</th>\n",
       "    </tr>\n",
       "  </thead>\n",
       "  <tbody>\n",
       "    <tr>\n",
       "      <th>0</th>\n",
       "      <td>2022-12-16</td>\n",
       "      <td>0</td>\n",
       "      <td>-18.60</td>\n",
       "      <td>42327.83</td>\n",
       "      <td>18.26</td>\n",
       "      <td>14.790</td>\n",
       "      <td>156.78</td>\n",
       "      <td>287.08</td>\n",
       "    </tr>\n",
       "    <tr>\n",
       "      <th>1</th>\n",
       "      <td>2022-12-17</td>\n",
       "      <td>0</td>\n",
       "      <td>-22.90</td>\n",
       "      <td>49082.09</td>\n",
       "      <td>10.25</td>\n",
       "      <td>8.180</td>\n",
       "      <td>182.96</td>\n",
       "      <td>61.00</td>\n",
       "    </tr>\n",
       "    <tr>\n",
       "      <th>2</th>\n",
       "      <td>2022-12-18</td>\n",
       "      <td>0</td>\n",
       "      <td>-21.50</td>\n",
       "      <td>46396.25</td>\n",
       "      <td>13.80</td>\n",
       "      <td>11.000</td>\n",
       "      <td>177.04</td>\n",
       "      <td>315.05</td>\n",
       "    </tr>\n",
       "    <tr>\n",
       "      <th>3</th>\n",
       "      <td>2022-12-19</td>\n",
       "      <td>1</td>\n",
       "      <td>-24.04</td>\n",
       "      <td>46658.30</td>\n",
       "      <td>10.26</td>\n",
       "      <td>8.101</td>\n",
       "      <td>185.50</td>\n",
       "      <td>320.14</td>\n",
       "    </tr>\n",
       "    <tr>\n",
       "      <th>4</th>\n",
       "      <td>2022-12-20</td>\n",
       "      <td>0</td>\n",
       "      <td>-20.13</td>\n",
       "      <td>47284.25</td>\n",
       "      <td>13.52</td>\n",
       "      <td>10.590</td>\n",
       "      <td>169.65</td>\n",
       "      <td>289.92</td>\n",
       "    </tr>\n",
       "  </tbody>\n",
       "</table>\n",
       "</div>"
      ],
      "text/plain": [
       "        Date  Contrail_Present  Average Temperature  GPM (Feet)  Rh Water  \\\n",
       "0 2022-12-16                 0               -18.60    42327.83     18.26   \n",
       "1 2022-12-17                 0               -22.90    49082.09     10.25   \n",
       "2 2022-12-18                 0               -21.50    46396.25     13.80   \n",
       "3 2022-12-19                 1               -24.04    46658.30     10.26   \n",
       "4 2022-12-20                 0               -20.13    47284.25     13.52   \n",
       "\n",
       "   Rh Ice  Average Dew  Average windspeed  \n",
       "0  14.790       156.78             287.08  \n",
       "1   8.180       182.96              61.00  \n",
       "2  11.000       177.04             315.05  \n",
       "3   8.101       185.50             320.14  \n",
       "4  10.590       169.65             289.92  "
      ]
     },
     "execution_count": 4,
     "metadata": {},
     "output_type": "execute_result"
    }
   ],
   "source": [
    "data.head()"
   ]
  },
  {
   "cell_type": "markdown",
   "id": "4a9880f2",
   "metadata": {},
   "source": [
    "# Logistic Regression"
   ]
  },
  {
   "cell_type": "code",
   "execution_count": 5,
   "id": "dcf541cc",
   "metadata": {},
   "outputs": [],
   "source": [
    "X = data.drop(columns = [\"Date\",\"Contrail_Present\"])\n",
    "Y = data.Contrail_Present"
   ]
  },
  {
   "cell_type": "code",
   "execution_count": 6,
   "id": "baebf8a6",
   "metadata": {},
   "outputs": [
    {
     "data": {
      "text/html": [
       "<div>\n",
       "<style scoped>\n",
       "    .dataframe tbody tr th:only-of-type {\n",
       "        vertical-align: middle;\n",
       "    }\n",
       "\n",
       "    .dataframe tbody tr th {\n",
       "        vertical-align: top;\n",
       "    }\n",
       "\n",
       "    .dataframe thead th {\n",
       "        text-align: right;\n",
       "    }\n",
       "</style>\n",
       "<table border=\"1\" class=\"dataframe\">\n",
       "  <thead>\n",
       "    <tr style=\"text-align: right;\">\n",
       "      <th></th>\n",
       "      <th>Average Temperature</th>\n",
       "      <th>GPM (Feet)</th>\n",
       "      <th>Rh Water</th>\n",
       "      <th>Rh Ice</th>\n",
       "      <th>Average Dew</th>\n",
       "      <th>Average windspeed</th>\n",
       "    </tr>\n",
       "  </thead>\n",
       "  <tbody>\n",
       "    <tr>\n",
       "      <th>0</th>\n",
       "      <td>-18.60</td>\n",
       "      <td>42327.83</td>\n",
       "      <td>18.26</td>\n",
       "      <td>14.790</td>\n",
       "      <td>156.78</td>\n",
       "      <td>287.08</td>\n",
       "    </tr>\n",
       "    <tr>\n",
       "      <th>1</th>\n",
       "      <td>-22.90</td>\n",
       "      <td>49082.09</td>\n",
       "      <td>10.25</td>\n",
       "      <td>8.180</td>\n",
       "      <td>182.96</td>\n",
       "      <td>61.00</td>\n",
       "    </tr>\n",
       "    <tr>\n",
       "      <th>2</th>\n",
       "      <td>-21.50</td>\n",
       "      <td>46396.25</td>\n",
       "      <td>13.80</td>\n",
       "      <td>11.000</td>\n",
       "      <td>177.04</td>\n",
       "      <td>315.05</td>\n",
       "    </tr>\n",
       "    <tr>\n",
       "      <th>3</th>\n",
       "      <td>-24.04</td>\n",
       "      <td>46658.30</td>\n",
       "      <td>10.26</td>\n",
       "      <td>8.101</td>\n",
       "      <td>185.50</td>\n",
       "      <td>320.14</td>\n",
       "    </tr>\n",
       "    <tr>\n",
       "      <th>4</th>\n",
       "      <td>-20.13</td>\n",
       "      <td>47284.25</td>\n",
       "      <td>13.52</td>\n",
       "      <td>10.590</td>\n",
       "      <td>169.65</td>\n",
       "      <td>289.92</td>\n",
       "    </tr>\n",
       "    <tr>\n",
       "      <th>...</th>\n",
       "      <td>...</td>\n",
       "      <td>...</td>\n",
       "      <td>...</td>\n",
       "      <td>...</td>\n",
       "      <td>...</td>\n",
       "      <td>...</td>\n",
       "    </tr>\n",
       "    <tr>\n",
       "      <th>79</th>\n",
       "      <td>-17.15</td>\n",
       "      <td>44595.04</td>\n",
       "      <td>18.31</td>\n",
       "      <td>14.460</td>\n",
       "      <td>146.62</td>\n",
       "      <td>182.33</td>\n",
       "    </tr>\n",
       "    <tr>\n",
       "      <th>80</th>\n",
       "      <td>-23.22</td>\n",
       "      <td>49536.54</td>\n",
       "      <td>15.18</td>\n",
       "      <td>12.010</td>\n",
       "      <td>180.55</td>\n",
       "      <td>186.44</td>\n",
       "    </tr>\n",
       "    <tr>\n",
       "      <th>81</th>\n",
       "      <td>-21.31</td>\n",
       "      <td>48235.37</td>\n",
       "      <td>22.41</td>\n",
       "      <td>17.600</td>\n",
       "      <td>141.81</td>\n",
       "      <td>184.04</td>\n",
       "    </tr>\n",
       "    <tr>\n",
       "      <th>82</th>\n",
       "      <td>-14.84</td>\n",
       "      <td>38759.35</td>\n",
       "      <td>23.24</td>\n",
       "      <td>18.550</td>\n",
       "      <td>126.85</td>\n",
       "      <td>166.31</td>\n",
       "    </tr>\n",
       "    <tr>\n",
       "      <th>83</th>\n",
       "      <td>-19.63</td>\n",
       "      <td>49011.91</td>\n",
       "      <td>27.64</td>\n",
       "      <td>21.740</td>\n",
       "      <td>124.31</td>\n",
       "      <td>217.86</td>\n",
       "    </tr>\n",
       "  </tbody>\n",
       "</table>\n",
       "<p>84 rows × 6 columns</p>\n",
       "</div>"
      ],
      "text/plain": [
       "    Average Temperature  GPM (Feet)  Rh Water  Rh Ice  Average Dew  \\\n",
       "0                -18.60    42327.83     18.26  14.790       156.78   \n",
       "1                -22.90    49082.09     10.25   8.180       182.96   \n",
       "2                -21.50    46396.25     13.80  11.000       177.04   \n",
       "3                -24.04    46658.30     10.26   8.101       185.50   \n",
       "4                -20.13    47284.25     13.52  10.590       169.65   \n",
       "..                  ...         ...       ...     ...          ...   \n",
       "79               -17.15    44595.04     18.31  14.460       146.62   \n",
       "80               -23.22    49536.54     15.18  12.010       180.55   \n",
       "81               -21.31    48235.37     22.41  17.600       141.81   \n",
       "82               -14.84    38759.35     23.24  18.550       126.85   \n",
       "83               -19.63    49011.91     27.64  21.740       124.31   \n",
       "\n",
       "    Average windspeed  \n",
       "0              287.08  \n",
       "1               61.00  \n",
       "2              315.05  \n",
       "3              320.14  \n",
       "4              289.92  \n",
       "..                ...  \n",
       "79             182.33  \n",
       "80             186.44  \n",
       "81             184.04  \n",
       "82             166.31  \n",
       "83             217.86  \n",
       "\n",
       "[84 rows x 6 columns]"
      ]
     },
     "execution_count": 6,
     "metadata": {},
     "output_type": "execute_result"
    }
   ],
   "source": [
    "X"
   ]
  },
  {
   "cell_type": "code",
   "execution_count": 7,
   "id": "9aeb53bf",
   "metadata": {},
   "outputs": [
    {
     "data": {
      "text/plain": [
       "0     0\n",
       "1     0\n",
       "2     0\n",
       "3     1\n",
       "4     0\n",
       "     ..\n",
       "79    1\n",
       "80    1\n",
       "81    0\n",
       "82    0\n",
       "83    0\n",
       "Name: Contrail_Present, Length: 84, dtype: int64"
      ]
     },
     "execution_count": 7,
     "metadata": {},
     "output_type": "execute_result"
    }
   ],
   "source": [
    "Y"
   ]
  },
  {
   "cell_type": "code",
   "execution_count": 8,
   "id": "12c04516",
   "metadata": {},
   "outputs": [],
   "source": [
    "# Split the data into training and testing sets\n",
    "X_train, X_test, y_train, y_test = train_test_split(X, Y, test_size=0.2, random_state=42)"
   ]
  },
  {
   "cell_type": "code",
   "execution_count": 9,
   "id": "dd07cda0",
   "metadata": {},
   "outputs": [],
   "source": [
    "# Create a Logistic Regression model\n",
    "model = LogisticRegression()"
   ]
  },
  {
   "cell_type": "code",
   "execution_count": 10,
   "id": "fb45bbc7",
   "metadata": {},
   "outputs": [
    {
     "data": {
      "text/html": [
       "<style>#sk-container-id-1 {color: black;background-color: white;}#sk-container-id-1 pre{padding: 0;}#sk-container-id-1 div.sk-toggleable {background-color: white;}#sk-container-id-1 label.sk-toggleable__label {cursor: pointer;display: block;width: 100%;margin-bottom: 0;padding: 0.3em;box-sizing: border-box;text-align: center;}#sk-container-id-1 label.sk-toggleable__label-arrow:before {content: \"▸\";float: left;margin-right: 0.25em;color: #696969;}#sk-container-id-1 label.sk-toggleable__label-arrow:hover:before {color: black;}#sk-container-id-1 div.sk-estimator:hover label.sk-toggleable__label-arrow:before {color: black;}#sk-container-id-1 div.sk-toggleable__content {max-height: 0;max-width: 0;overflow: hidden;text-align: left;background-color: #f0f8ff;}#sk-container-id-1 div.sk-toggleable__content pre {margin: 0.2em;color: black;border-radius: 0.25em;background-color: #f0f8ff;}#sk-container-id-1 input.sk-toggleable__control:checked~div.sk-toggleable__content {max-height: 200px;max-width: 100%;overflow: auto;}#sk-container-id-1 input.sk-toggleable__control:checked~label.sk-toggleable__label-arrow:before {content: \"▾\";}#sk-container-id-1 div.sk-estimator input.sk-toggleable__control:checked~label.sk-toggleable__label {background-color: #d4ebff;}#sk-container-id-1 div.sk-label input.sk-toggleable__control:checked~label.sk-toggleable__label {background-color: #d4ebff;}#sk-container-id-1 input.sk-hidden--visually {border: 0;clip: rect(1px 1px 1px 1px);clip: rect(1px, 1px, 1px, 1px);height: 1px;margin: -1px;overflow: hidden;padding: 0;position: absolute;width: 1px;}#sk-container-id-1 div.sk-estimator {font-family: monospace;background-color: #f0f8ff;border: 1px dotted black;border-radius: 0.25em;box-sizing: border-box;margin-bottom: 0.5em;}#sk-container-id-1 div.sk-estimator:hover {background-color: #d4ebff;}#sk-container-id-1 div.sk-parallel-item::after {content: \"\";width: 100%;border-bottom: 1px solid gray;flex-grow: 1;}#sk-container-id-1 div.sk-label:hover label.sk-toggleable__label {background-color: #d4ebff;}#sk-container-id-1 div.sk-serial::before {content: \"\";position: absolute;border-left: 1px solid gray;box-sizing: border-box;top: 0;bottom: 0;left: 50%;z-index: 0;}#sk-container-id-1 div.sk-serial {display: flex;flex-direction: column;align-items: center;background-color: white;padding-right: 0.2em;padding-left: 0.2em;position: relative;}#sk-container-id-1 div.sk-item {position: relative;z-index: 1;}#sk-container-id-1 div.sk-parallel {display: flex;align-items: stretch;justify-content: center;background-color: white;position: relative;}#sk-container-id-1 div.sk-item::before, #sk-container-id-1 div.sk-parallel-item::before {content: \"\";position: absolute;border-left: 1px solid gray;box-sizing: border-box;top: 0;bottom: 0;left: 50%;z-index: -1;}#sk-container-id-1 div.sk-parallel-item {display: flex;flex-direction: column;z-index: 1;position: relative;background-color: white;}#sk-container-id-1 div.sk-parallel-item:first-child::after {align-self: flex-end;width: 50%;}#sk-container-id-1 div.sk-parallel-item:last-child::after {align-self: flex-start;width: 50%;}#sk-container-id-1 div.sk-parallel-item:only-child::after {width: 0;}#sk-container-id-1 div.sk-dashed-wrapped {border: 1px dashed gray;margin: 0 0.4em 0.5em 0.4em;box-sizing: border-box;padding-bottom: 0.4em;background-color: white;}#sk-container-id-1 div.sk-label label {font-family: monospace;font-weight: bold;display: inline-block;line-height: 1.2em;}#sk-container-id-1 div.sk-label-container {text-align: center;}#sk-container-id-1 div.sk-container {/* jupyter's `normalize.less` sets `[hidden] { display: none; }` but bootstrap.min.css set `[hidden] { display: none !important; }` so we also need the `!important` here to be able to override the default hidden behavior on the sphinx rendered scikit-learn.org. See: https://github.com/scikit-learn/scikit-learn/issues/21755 */display: inline-block !important;position: relative;}#sk-container-id-1 div.sk-text-repr-fallback {display: none;}</style><div id=\"sk-container-id-1\" class=\"sk-top-container\"><div class=\"sk-text-repr-fallback\"><pre>LogisticRegression()</pre><b>In a Jupyter environment, please rerun this cell to show the HTML representation or trust the notebook. <br />On GitHub, the HTML representation is unable to render, please try loading this page with nbviewer.org.</b></div><div class=\"sk-container\" hidden><div class=\"sk-item\"><div class=\"sk-estimator sk-toggleable\"><input class=\"sk-toggleable__control sk-hidden--visually\" id=\"sk-estimator-id-1\" type=\"checkbox\" checked><label for=\"sk-estimator-id-1\" class=\"sk-toggleable__label sk-toggleable__label-arrow\">LogisticRegression</label><div class=\"sk-toggleable__content\"><pre>LogisticRegression()</pre></div></div></div></div></div>"
      ],
      "text/plain": [
       "LogisticRegression()"
      ]
     },
     "execution_count": 10,
     "metadata": {},
     "output_type": "execute_result"
    }
   ],
   "source": [
    "# Train the model on the training data\n",
    "model.fit(X_train, y_train)"
   ]
  },
  {
   "cell_type": "code",
   "execution_count": 11,
   "id": "7c04f0c0",
   "metadata": {},
   "outputs": [],
   "source": [
    "# Make predictions on the testing data\n",
    "y_pred = model.predict(X_test)"
   ]
  },
  {
   "cell_type": "code",
   "execution_count": 12,
   "id": "4d16e61f",
   "metadata": {},
   "outputs": [],
   "source": [
    "# Evaluate the model\n",
    "accuracy = accuracy_score(y_test, y_pred)\n",
    "report = classification_report(y_test, y_pred, target_names=['Class 0', 'Class 1'])"
   ]
  },
  {
   "cell_type": "code",
   "execution_count": 13,
   "id": "c362cfb1",
   "metadata": {},
   "outputs": [
    {
     "name": "stdout",
     "output_type": "stream",
     "text": [
      "Accuracy: 0.47058823529411764\n",
      "Classification Report:\n",
      "              precision    recall  f1-score   support\n",
      "\n",
      "     Class 0       0.43      0.38      0.40         8\n",
      "     Class 1       0.50      0.56      0.53         9\n",
      "\n",
      "    accuracy                           0.47        17\n",
      "   macro avg       0.46      0.47      0.46        17\n",
      "weighted avg       0.47      0.47      0.47        17\n",
      "\n"
     ]
    }
   ],
   "source": [
    "# Print the accuracy\n",
    "print(f\"Accuracy: {accuracy}\")\n",
    "# Print the classification report\n",
    "print(\"Classification Report:\")\n",
    "print(report)"
   ]
  },
  {
   "cell_type": "code",
   "execution_count": 14,
   "id": "86eb42f6",
   "metadata": {},
   "outputs": [],
   "source": [
    "#Visualize the logistic regression\n",
    "imp = pd.DataFrame(np.absolute(model.coef_[0]))"
   ]
  },
  {
   "cell_type": "code",
   "execution_count": 29,
   "id": "7071752d",
   "metadata": {},
   "outputs": [
    {
     "data": {
      "text/html": [
       "<div>\n",
       "<style scoped>\n",
       "    .dataframe tbody tr th:only-of-type {\n",
       "        vertical-align: middle;\n",
       "    }\n",
       "\n",
       "    .dataframe tbody tr th {\n",
       "        vertical-align: top;\n",
       "    }\n",
       "\n",
       "    .dataframe thead th {\n",
       "        text-align: right;\n",
       "    }\n",
       "</style>\n",
       "<table border=\"1\" class=\"dataframe\">\n",
       "  <thead>\n",
       "    <tr style=\"text-align: right;\">\n",
       "      <th></th>\n",
       "      <th>index</th>\n",
       "      <th>Importance</th>\n",
       "    </tr>\n",
       "  </thead>\n",
       "  <tbody>\n",
       "    <tr>\n",
       "      <th>0</th>\n",
       "      <td>Dew</td>\n",
       "      <td>0.000102</td>\n",
       "    </tr>\n",
       "    <tr>\n",
       "      <th>1</th>\n",
       "      <td>Altitude</td>\n",
       "      <td>0.001595</td>\n",
       "    </tr>\n",
       "    <tr>\n",
       "      <th>2</th>\n",
       "      <td>Windspeed</td>\n",
       "      <td>0.010429</td>\n",
       "    </tr>\n",
       "    <tr>\n",
       "      <th>3</th>\n",
       "      <td>Temperature</td>\n",
       "      <td>0.034392</td>\n",
       "    </tr>\n",
       "    <tr>\n",
       "      <th>4</th>\n",
       "      <td>Humidity Ice</td>\n",
       "      <td>0.086461</td>\n",
       "    </tr>\n",
       "  </tbody>\n",
       "</table>\n",
       "</div>"
      ],
      "text/plain": [
       "          index  Importance\n",
       "0           Dew    0.000102\n",
       "1      Altitude    0.001595\n",
       "2     Windspeed    0.010429\n",
       "3   Temperature    0.034392\n",
       "4  Humidity Ice    0.086461"
      ]
     },
     "execution_count": 29,
     "metadata": {},
     "output_type": "execute_result"
    }
   ],
   "source": [
    "imp.head()"
   ]
  },
  {
   "cell_type": "code",
   "execution_count": 16,
   "id": "ea5f07c3",
   "metadata": {},
   "outputs": [],
   "source": [
    "imp.rename({0:\"Importance\"},axis = 1,inplace=True)"
   ]
  },
  {
   "cell_type": "code",
   "execution_count": null,
   "id": "d1ba104d",
   "metadata": {},
   "outputs": [],
   "source": []
  },
  {
   "cell_type": "code",
   "execution_count": 17,
   "id": "e8d460c3",
   "metadata": {},
   "outputs": [],
   "source": [
    "#imp.rename({0:\"Cloudcover\",1:\"Dew\",2:\"Humidity\",3:\"Temperature\",4:\"Visibility\",5:\"Windgust\",6:\"Windspeed\",7:\"Slp_change\"},inplace = True)\n",
    "\n",
    "imp.rename({0:\"Temperature\",1:\"Dew\",2:\"Humidity water\",3:\"Humidity Ice\",4:\"Windspeed\",5:\"Altitude\"},inplace = True)"
   ]
  },
  {
   "cell_type": "code",
   "execution_count": 18,
   "id": "9b9e4b5f",
   "metadata": {},
   "outputs": [],
   "source": [
    "imp.sort_values(\"Importance\",inplace=True)\n",
    "imp.reset_index(inplace=True)"
   ]
  },
  {
   "cell_type": "code",
   "execution_count": 19,
   "id": "ded36bbb",
   "metadata": {},
   "outputs": [
    {
     "data": {
      "image/png": "[encoded data removed]",
      "text/plain": [
       "<Figure size 800x600 with 1 Axes>"
      ]
     },
     "metadata": {},
     "output_type": "display_data"
    }
   ],
   "source": [
    "# Create a bar plot\n",
    "sns.set(style=\"whitegrid\")  # Optional style settings\n",
    "plt.figure(figsize=(8, 6))  # Set the figure size\n",
    "sns.barplot(x='Importance', y='index', data=imp, palette=\"viridis\")\n",
    "\n",
    "# Set labels and title\n",
    "plt.xlabel('Importance')\n",
    "plt.ylabel('Feature')\n",
    "plt.title('Importance of the index variable')\n",
    "\n",
    "# Display the plot\n",
    "plt.show()"
   ]
  },
  {
   "cell_type": "code",
   "execution_count": null,
   "id": "8ca232c9",
   "metadata": {},
   "outputs": [],
   "source": []
  },
  {
   "cell_type": "markdown",
   "id": "414c909e",
   "metadata": {},
   "source": [
    "# Random Forest"
   ]
  },
  {
   "cell_type": "code",
   "execution_count": 20,
   "id": "1b3dd4b8",
   "metadata": {},
   "outputs": [],
   "source": [
    "rf_model = RandomForestClassifier(n_estimators=100, random_state=42)"
   ]
  },
  {
   "cell_type": "code",
   "execution_count": 21,
   "id": "61326fff",
   "metadata": {},
   "outputs": [
    {
     "data": {
      "text/html": [
       "<style>#sk-container-id-2 {color: black;background-color: white;}#sk-container-id-2 pre{padding: 0;}#sk-container-id-2 div.sk-toggleable {background-color: white;}#sk-container-id-2 label.sk-toggleable__label {cursor: pointer;display: block;width: 100%;margin-bottom: 0;padding: 0.3em;box-sizing: border-box;text-align: center;}#sk-container-id-2 label.sk-toggleable__label-arrow:before {content: \"▸\";float: left;margin-right: 0.25em;color: #696969;}#sk-container-id-2 label.sk-toggleable__label-arrow:hover:before {color: black;}#sk-container-id-2 div.sk-estimator:hover label.sk-toggleable__label-arrow:before {color: black;}#sk-container-id-2 div.sk-toggleable__content {max-height: 0;max-width: 0;overflow: hidden;text-align: left;background-color: #f0f8ff;}#sk-container-id-2 div.sk-toggleable__content pre {margin: 0.2em;color: black;border-radius: 0.25em;background-color: #f0f8ff;}#sk-container-id-2 input.sk-toggleable__control:checked~div.sk-toggleable__content {max-height: 200px;max-width: 100%;overflow: auto;}#sk-container-id-2 input.sk-toggleable__control:checked~label.sk-toggleable__label-arrow:before {content: \"▾\";}#sk-container-id-2 div.sk-estimator input.sk-toggleable__control:checked~label.sk-toggleable__label {background-color: #d4ebff;}#sk-container-id-2 div.sk-label input.sk-toggleable__control:checked~label.sk-toggleable__label {background-color: #d4ebff;}#sk-container-id-2 input.sk-hidden--visually {border: 0;clip: rect(1px 1px 1px 1px);clip: rect(1px, 1px, 1px, 1px);height: 1px;margin: -1px;overflow: hidden;padding: 0;position: absolute;width: 1px;}#sk-container-id-2 div.sk-estimator {font-family: monospace;background-color: #f0f8ff;border: 1px dotted black;border-radius: 0.25em;box-sizing: border-box;margin-bottom: 0.5em;}#sk-container-id-2 div.sk-estimator:hover {background-color: #d4ebff;}#sk-container-id-2 div.sk-parallel-item::after {content: \"\";width: 100%;border-bottom: 1px solid gray;flex-grow: 1;}#sk-container-id-2 div.sk-label:hover label.sk-toggleable__label {background-color: #d4ebff;}#sk-container-id-2 div.sk-serial::before {content: \"\";position: absolute;border-left: 1px solid gray;box-sizing: border-box;top: 0;bottom: 0;left: 50%;z-index: 0;}#sk-container-id-2 div.sk-serial {display: flex;flex-direction: column;align-items: center;background-color: white;padding-right: 0.2em;padding-left: 0.2em;position: relative;}#sk-container-id-2 div.sk-item {position: relative;z-index: 1;}#sk-container-id-2 div.sk-parallel {display: flex;align-items: stretch;justify-content: center;background-color: white;position: relative;}#sk-container-id-2 div.sk-item::before, #sk-container-id-2 div.sk-parallel-item::before {content: \"\";position: absolute;border-left: 1px solid gray;box-sizing: border-box;top: 0;bottom: 0;left: 50%;z-index: -1;}#sk-container-id-2 div.sk-parallel-item {display: flex;flex-direction: column;z-index: 1;position: relative;background-color: white;}#sk-container-id-2 div.sk-parallel-item:first-child::after {align-self: flex-end;width: 50%;}#sk-container-id-2 div.sk-parallel-item:last-child::after {align-self: flex-start;width: 50%;}#sk-container-id-2 div.sk-parallel-item:only-child::after {width: 0;}#sk-container-id-2 div.sk-dashed-wrapped {border: 1px dashed gray;margin: 0 0.4em 0.5em 0.4em;box-sizing: border-box;padding-bottom: 0.4em;background-color: white;}#sk-container-id-2 div.sk-label label {font-family: monospace;font-weight: bold;display: inline-block;line-height: 1.2em;}#sk-container-id-2 div.sk-label-container {text-align: center;}#sk-container-id-2 div.sk-container {/* jupyter's `normalize.less` sets `[hidden] { display: none; }` but bootstrap.min.css set `[hidden] { display: none !important; }` so we also need the `!important` here to be able to override the default hidden behavior on the sphinx rendered scikit-learn.org. See: https://github.com/scikit-learn/scikit-learn/issues/21755 */display: inline-block !important;position: relative;}#sk-container-id-2 div.sk-text-repr-fallback {display: none;}</style><div id=\"sk-container-id-2\" class=\"sk-top-container\"><div class=\"sk-text-repr-fallback\"><pre>RandomForestClassifier(random_state=42)</pre><b>In a Jupyter environment, please rerun this cell to show the HTML representation or trust the notebook. <br />On GitHub, the HTML representation is unable to render, please try loading this page with nbviewer.org.</b></div><div class=\"sk-container\" hidden><div class=\"sk-item\"><div class=\"sk-estimator sk-toggleable\"><input class=\"sk-toggleable__control sk-hidden--visually\" id=\"sk-estimator-id-2\" type=\"checkbox\" checked><label for=\"sk-estimator-id-2\" class=\"sk-toggleable__label sk-toggleable__label-arrow\">RandomForestClassifier</label><div class=\"sk-toggleable__content\"><pre>RandomForestClassifier(random_state=42)</pre></div></div></div></div></div>"
      ],
      "text/plain": [
       "RandomForestClassifier(random_state=42)"
      ]
     },
     "execution_count": 21,
     "metadata": {},
     "output_type": "execute_result"
    }
   ],
   "source": [
    "rf_model.fit(X_train, y_train)"
   ]
  },
  {
   "cell_type": "code",
   "execution_count": 22,
   "id": "093d8b5d",
   "metadata": {},
   "outputs": [],
   "source": [
    "# Make predictions on the testing data\n",
    "rf_y_pred = rf_model.predict(X_test)"
   ]
  },
  {
   "cell_type": "code",
   "execution_count": 23,
   "id": "dc554bf3",
   "metadata": {},
   "outputs": [],
   "source": [
    "# Evaluate the model\n",
    "rf_accuracy = accuracy_score(y_test, rf_y_pred)\n",
    "rf_report = classification_report(y_test, rf_y_pred, target_names=['Class 0', 'Class 1'])"
   ]
  },
  {
   "cell_type": "code",
   "execution_count": 24,
   "id": "a28096f5",
   "metadata": {},
   "outputs": [
    {
     "name": "stdout",
     "output_type": "stream",
     "text": [
      "Accuracy: 0.5882352941176471\n",
      "Classification Report:\n",
      "              precision    recall  f1-score   support\n",
      "\n",
      "     Class 0       0.56      0.62      0.59         8\n",
      "     Class 1       0.62      0.56      0.59         9\n",
      "\n",
      "    accuracy                           0.59        17\n",
      "   macro avg       0.59      0.59      0.59        17\n",
      "weighted avg       0.59      0.59      0.59        17\n",
      "\n"
     ]
    }
   ],
   "source": [
    "# Print the accuracy\n",
    "print(f\"Accuracy: {rf_accuracy}\")\n",
    "# Print the classification report\n",
    "print(\"Classification Report:\")\n",
    "print(rf_report)"
   ]
  },
  {
   "cell_type": "code",
   "execution_count": 25,
   "id": "05ead247",
   "metadata": {},
   "outputs": [],
   "source": [
    "# Visualization of Feature Importance in Random Forest\n",
    "# Get feature importances from the Random Forest model\n",
    "feature_importances = rf_model.feature_importances_"
   ]
  },
  {
   "cell_type": "code",
   "execution_count": 26,
   "id": "9c799ce1",
   "metadata": {},
   "outputs": [
    {
     "data": {
      "image/png": "[encoded data removed]",
      "text/plain": [
       "<Figure size 800x600 with 1 Axes>"
      ]
     },
     "metadata": {},
     "output_type": "display_data"
    }
   ],
   "source": [
    "# Create a bar plot to visualize feature importances\n",
    "plt.figure(figsize=(8, 6))\n",
    "sns.barplot(x=feature_importances, y=X.columns, palette=\"viridis\")\n",
    "plt.xlabel('Feature Importance')\n",
    "plt.ylabel('Feature Name')\n",
    "plt.title('Random Forest Feature Importance')\n",
    "plt.show()"
   ]
  },
  {
   "cell_type": "code",
   "execution_count": 27,
   "id": "2b3355e7",
   "metadata": {},
   "outputs": [
    {
     "name": "stdout",
     "output_type": "stream",
     "text": [
      "Confusion Matrix for Logistic Regression:\n",
      "[[3 5]\n",
      " [4 5]]\n",
      "\n",
      "Confusion Matrix for Random Forest:\n",
      "[[5 3]\n",
      " [4 5]]\n"
     ]
    }
   ],
   "source": [
    "# Create confusion matrices for both models\n",
    "logistic_confusion_matrix = confusion_matrix(y_test, y_pred)\n",
    "rf_confusion_matrix = confusion_matrix(y_test, rf_y_pred)\n",
    "\n",
    "print(\"Confusion Matrix for Logistic Regression:\")\n",
    "print(logistic_confusion_matrix)\n",
    "\n",
    "print(\"\\nConfusion Matrix for Random Forest:\")\n",
    "print(rf_confusion_matrix)"
   ]
  },
  {
   "cell_type": "code",
   "execution_count": 28,
   "id": "507ceb32",
   "metadata": {},
   "outputs": [
    {
     "data": {
      "image/png": "[encoded data removed]",
      "text/plain": [
       "<Figure size 800x600 with 1 Axes>"
      ]
     },
     "metadata": {},
     "output_type": "display_data"
    }
   ],
   "source": [
    "# Calculate ROC curves and AUC for both models\n",
    "logistic_fpr, logistic_tpr, _ = roc_curve(y_test, y_pred)\n",
    "rf_fpr, rf_tpr, _ = roc_curve(y_test, rf_y_pred)\n",
    "\n",
    "logistic_auc = roc_auc_score(y_test, y_pred)\n",
    "rf_auc = roc_auc_score(y_test, rf_y_pred)\n",
    "\n",
    "# Plot ROC curves\n",
    "plt.figure(figsize=(8, 6))\n",
    "plt.plot(logistic_fpr, logistic_tpr, label=f\"Logistic Regression (AUC = {logistic_auc:.2f})\")\n",
    "plt.plot(rf_fpr, rf_tpr, label=f\"Random Forest (AUC = {rf_auc:.2f})\")\n",
    "plt.plot([0, 1], [0, 1], 'k--')\n",
    "plt.xlim([0.0, 1.0])\n",
    "plt.ylim([0.0, 1.05])\n",
    "plt.xlabel('False Positive Rate')\n",
    "plt.ylabel('True Positive Rate')\n",
    "plt.title('Receiver Operating Characteristic (ROC) Curve')\n",
    "plt.legend()\n",
    "plt.show()"
   ]
  },
  {
   "cell_type": "code",
   "execution_count": 30,
   "id": "466bd3fc",
   "metadata": {},
   "outputs": [],
   "source": [
    "# Select the desired columns as features (X) and target variable (y)\n",
    "XX = data[['Average Temperature', 'GPM (Feet)', 'Rh Water', 'Rh Ice', 'Average Dew', 'Average windspeed']]\n",
    "yy = data['Contrail_Present']"
   ]
  },
  {
   "cell_type": "code",
   "execution_count": 31,
   "id": "79fc9284",
   "metadata": {},
   "outputs": [],
   "source": [
    "# Number of folds for cross-validation\n",
    "num_folds = 5  # You can adjust the number of folds as needed"
   ]
  },
  {
   "cell_type": "code",
   "execution_count": 32,
   "id": "787adae3",
   "metadata": {},
   "outputs": [],
   "source": [
    "# Create a cross-validation object\n",
    "kf = KFold(n_splits=num_folds, shuffle=True, random_state=42)"
   ]
  },
  {
   "cell_type": "code",
   "execution_count": 33,
   "id": "fded3da5",
   "metadata": {},
   "outputs": [],
   "source": [
    "# Logistic Regression cross-validation\n",
    "\n",
    "logistic_regression_scores = cross_val_score(model, XX, yy, cv=kf, scoring='accuracy')"
   ]
  },
  {
   "cell_type": "code",
   "execution_count": 34,
   "id": "3613afc1",
   "metadata": {},
   "outputs": [],
   "source": [
    "# Random Forest cross-validation\n",
    "random_forest_scores = cross_val_score(rf_model, XX, yy, cv=kf, scoring='accuracy')"
   ]
  },
  {
   "cell_type": "code",
   "execution_count": 35,
   "id": "f276f7b0",
   "metadata": {},
   "outputs": [
    {
     "name": "stdout",
     "output_type": "stream",
     "text": [
      "Logistic Regression Cross-Validation Results:\n",
      "Accuracy for each fold: [0.47058824 0.64705882 0.76470588 0.70588235 0.375     ]\n",
      "Mean Accuracy: 0.5926470588235294\n",
      "Standard Deviation of Accuracy: 0.1467349374501932\n"
     ]
    }
   ],
   "source": [
    "# Print the cross-validation results\n",
    "print(\"Logistic Regression Cross-Validation Results:\")\n",
    "print(\"Accuracy for each fold:\", logistic_regression_scores)\n",
    "print(\"Mean Accuracy:\", np.mean(logistic_regression_scores))\n",
    "print(\"Standard Deviation of Accuracy:\", np.std(logistic_regression_scores))\n",
    "\n"
   ]
  },
  {
   "cell_type": "code",
   "execution_count": 36,
   "id": "d791a1fe",
   "metadata": {},
   "outputs": [
    {
     "name": "stdout",
     "output_type": "stream",
     "text": [
      "\n",
      "Random Forest Cross-Validation Results:\n",
      "Accuracy for each fold: [0.64705882 0.70588235 0.76470588 0.76470588 0.5       ]\n",
      "Mean Accuracy: 0.6764705882352942\n",
      "Standard Deviation of Accuracy: 0.09843059135695004\n"
     ]
    }
   ],
   "source": [
    "print(\"\\nRandom Forest Cross-Validation Results:\")\n",
    "print(\"Accuracy for each fold:\", random_forest_scores)\n",
    "print(\"Mean Accuracy:\", np.mean(random_forest_scores))\n",
    "print(\"Standard Deviation of Accuracy:\", np.std(random_forest_scores))"
   ]
  },
  {
   "cell_type": "markdown",
   "id": "99d822b4",
   "metadata": {},
   "source": [
    "#### "
   ]
  }
 ],
 "metadata": {
  "kernelspec": {
   "display_name": "Python 3 (ipykernel)",
   "language": "python",
   "name": "python3"
  },
  "language_info": {
   "codemirror_mode": {
    "name": "ipython",
    "version": 3
   },
   "file_extension": ".py",
   "mimetype": "text/x-python",
   "name": "python",
   "nbconvert_exporter": "python",
   "pygments_lexer": "ipython3",
   "version": "3.9.18"
  }
 },
 "nbformat": 4,
 "nbformat_minor": 5
}
